{
  "nbformat": 4,
  "nbformat_minor": 0,
  "metadata": {
    "colab": {
      "name": "standard_scalar.ipynb",
      "provenance": [],
      "collapsed_sections": []
    },
    "kernelspec": {
      "name": "python3",
      "display_name": "Python 3"
    },
    "accelerator": "GPU"
  },
  "cells": [
    {
      "cell_type": "code",
      "metadata": {
        "colab": {
          "base_uri": "https://localhost:8080/"
        },
        "id": "LZ-ww7UieGda",
        "outputId": "8452c999-8ac1-4948-c191-896b1c77c3ff"
      },
      "source": [
        "import numpy as np\n",
        "import pandas as pd \n",
        "import matplotlib.pyplot as plt\n",
        "# import seaborn as sns\n",
        "from scipy import stats\n",
        "from sklearn.model_selection import train_test_split\n",
        "from sklearn.model_selection import cross_validate\n",
        "from sklearn.metrics import roc_auc_score, accuracy_score, precision_score, recall_score, f1_score\n",
        "from sklearn.linear_model import LogisticRegression\n",
        "from sklearn.tree import DecisionTreeClassifier\n",
        "from sklearn.svm import SVC,NuSVC,LinearSVC\n",
        "from sklearn.neighbors import KNeighborsClassifier\n",
        "from sklearn.ensemble import RandomForestClassifier\n",
        "from sklearn.naive_bayes import GaussianNB\n",
        "from sklearn.discriminant_analysis import LinearDiscriminantAnalysis, QuadraticDiscriminantAnalysis\n",
        "from sklearn import preprocessing\n",
        "from sklearn.pipeline import make_pipeline\n",
        "from sklearn.model_selection import ShuffleSplit\n",
        "from sklearn.model_selection import cross_val_score\n",
        "print(\"imported the needed libraries\")"
      ],
      "execution_count": 1,
      "outputs": [
        {
          "output_type": "stream",
          "text": [
            "imported the needed libraries\n"
          ],
          "name": "stdout"
        }
      ]
    },
    {
      "cell_type": "code",
      "metadata": {
        "id": "T8x67pvyi-F1"
      },
      "source": [
        "df = pd.read_csv(\"./T_BZL_POL_WithTeamNames.csv\")"
      ],
      "execution_count": 4,
      "outputs": []
    },
    {
      "cell_type": "code",
      "metadata": {
        "id": "VMMYfkVai-BB",
        "colab": {
          "base_uri": "https://localhost:8080/",
          "height": 292
        },
        "outputId": "6c2f3513-9782-412b-e5e8-a2f1d5f83fc8"
      },
      "source": [
        "df.head()"
      ],
      "execution_count": 5,
      "outputs": [
        {
          "output_type": "execute_result",
          "data": {
            "text/html": [
              "<div>\n",
              "<style scoped>\n",
              "    .dataframe tbody tr th:only-of-type {\n",
              "        vertical-align: middle;\n",
              "    }\n",
              "\n",
              "    .dataframe tbody tr th {\n",
              "        vertical-align: top;\n",
              "    }\n",
              "\n",
              "    .dataframe thead th {\n",
              "        text-align: right;\n",
              "    }\n",
              "</style>\n",
              "<table border=\"1\" class=\"dataframe\">\n",
              "  <thead>\n",
              "    <tr style=\"text-align: right;\">\n",
              "      <th></th>\n",
              "      <th>away_current_pos</th>\n",
              "      <th>away_last_yr_pos</th>\n",
              "      <th>away_prev_game_perf</th>\n",
              "      <th>away_team_av_points</th>\n",
              "      <th>away_team_av_points_conceded</th>\n",
              "      <th>away_team_away_form</th>\n",
              "      <th>away_team_form</th>\n",
              "      <th>away_team_rest_time</th>\n",
              "      <th>away_win_percentage</th>\n",
              "      <th>h2h_form</th>\n",
              "      <th>home_current_pos</th>\n",
              "      <th>home_last_yr_pos</th>\n",
              "      <th>home_prev_game_perf</th>\n",
              "      <th>home_team_av_points</th>\n",
              "      <th>home_team_av_points_conceded</th>\n",
              "      <th>home_team_form</th>\n",
              "      <th>home_team_home_form</th>\n",
              "      <th>home_team_rest_time</th>\n",
              "      <th>home_win_percentage</th>\n",
              "      <th>match_importance</th>\n",
              "      <th>result</th>\n",
              "      <th>Date</th>\n",
              "      <th>away_team</th>\n",
              "      <th>home_team</th>\n",
              "      <th>month</th>\n",
              "      <th>year</th>\n",
              "    </tr>\n",
              "  </thead>\n",
              "  <tbody>\n",
              "    <tr>\n",
              "      <th>0</th>\n",
              "      <td>12</td>\n",
              "      <td>12</td>\n",
              "      <td>0</td>\n",
              "      <td>20.0</td>\n",
              "      <td>20.00</td>\n",
              "      <td>0.0</td>\n",
              "      <td>0.0</td>\n",
              "      <td>7</td>\n",
              "      <td>50.0</td>\n",
              "      <td>0.0</td>\n",
              "      <td>2</td>\n",
              "      <td>2</td>\n",
              "      <td>0</td>\n",
              "      <td>20.00</td>\n",
              "      <td>20.00</td>\n",
              "      <td>0.0</td>\n",
              "      <td>0.0</td>\n",
              "      <td>7</td>\n",
              "      <td>50.0</td>\n",
              "      <td>0</td>\n",
              "      <td>1</td>\n",
              "      <td>7</td>\n",
              "      <td>Santo Andre</td>\n",
              "      <td>America Volei</td>\n",
              "      <td>11</td>\n",
              "      <td>2010</td>\n",
              "    </tr>\n",
              "    <tr>\n",
              "      <th>1</th>\n",
              "      <td>7</td>\n",
              "      <td>6</td>\n",
              "      <td>0</td>\n",
              "      <td>20.0</td>\n",
              "      <td>20.00</td>\n",
              "      <td>0.0</td>\n",
              "      <td>0.0</td>\n",
              "      <td>7</td>\n",
              "      <td>50.0</td>\n",
              "      <td>0.0</td>\n",
              "      <td>8</td>\n",
              "      <td>1</td>\n",
              "      <td>0</td>\n",
              "      <td>20.00</td>\n",
              "      <td>20.00</td>\n",
              "      <td>0.0</td>\n",
              "      <td>0.0</td>\n",
              "      <td>7</td>\n",
              "      <td>50.0</td>\n",
              "      <td>0</td>\n",
              "      <td>1</td>\n",
              "      <td>9</td>\n",
              "      <td>Fatima UCS</td>\n",
              "      <td>Cimed</td>\n",
              "      <td>11</td>\n",
              "      <td>2010</td>\n",
              "    </tr>\n",
              "    <tr>\n",
              "      <th>2</th>\n",
              "      <td>13</td>\n",
              "      <td>3</td>\n",
              "      <td>0</td>\n",
              "      <td>20.0</td>\n",
              "      <td>20.00</td>\n",
              "      <td>0.0</td>\n",
              "      <td>0.0</td>\n",
              "      <td>7</td>\n",
              "      <td>50.0</td>\n",
              "      <td>0.0</td>\n",
              "      <td>11</td>\n",
              "      <td>5</td>\n",
              "      <td>0</td>\n",
              "      <td>20.00</td>\n",
              "      <td>20.00</td>\n",
              "      <td>0.0</td>\n",
              "      <td>0.0</td>\n",
              "      <td>7</td>\n",
              "      <td>50.0</td>\n",
              "      <td>0</td>\n",
              "      <td>1</td>\n",
              "      <td>11</td>\n",
              "      <td>Sada Cruzeiro</td>\n",
              "      <td>Sesi</td>\n",
              "      <td>11</td>\n",
              "      <td>2010</td>\n",
              "    </tr>\n",
              "    <tr>\n",
              "      <th>3</th>\n",
              "      <td>15</td>\n",
              "      <td>8</td>\n",
              "      <td>0</td>\n",
              "      <td>20.0</td>\n",
              "      <td>20.00</td>\n",
              "      <td>0.0</td>\n",
              "      <td>0.0</td>\n",
              "      <td>7</td>\n",
              "      <td>50.0</td>\n",
              "      <td>0.0</td>\n",
              "      <td>11</td>\n",
              "      <td>4</td>\n",
              "      <td>0</td>\n",
              "      <td>20.00</td>\n",
              "      <td>20.00</td>\n",
              "      <td>0.0</td>\n",
              "      <td>0.0</td>\n",
              "      <td>7</td>\n",
              "      <td>50.0</td>\n",
              "      <td>0</td>\n",
              "      <td>1</td>\n",
              "      <td>11</td>\n",
              "      <td>Minas</td>\n",
              "      <td>Pinheiros</td>\n",
              "      <td>11</td>\n",
              "      <td>2010</td>\n",
              "    </tr>\n",
              "    <tr>\n",
              "      <th>4</th>\n",
              "      <td>13</td>\n",
              "      <td>3</td>\n",
              "      <td>0</td>\n",
              "      <td>20.4</td>\n",
              "      <td>20.64</td>\n",
              "      <td>-0.2</td>\n",
              "      <td>-0.2</td>\n",
              "      <td>2</td>\n",
              "      <td>0.0</td>\n",
              "      <td>0.0</td>\n",
              "      <td>3</td>\n",
              "      <td>4</td>\n",
              "      <td>1</td>\n",
              "      <td>20.85</td>\n",
              "      <td>20.55</td>\n",
              "      <td>0.4</td>\n",
              "      <td>0.4</td>\n",
              "      <td>2</td>\n",
              "      <td>100.0</td>\n",
              "      <td>0</td>\n",
              "      <td>0</td>\n",
              "      <td>13</td>\n",
              "      <td>Sada Cruzeiro</td>\n",
              "      <td>Pinheiros</td>\n",
              "      <td>11</td>\n",
              "      <td>2010</td>\n",
              "    </tr>\n",
              "  </tbody>\n",
              "</table>\n",
              "</div>"
            ],
            "text/plain": [
              "   away_current_pos  away_last_yr_pos  ...  month  year\n",
              "0                12                12  ...     11  2010\n",
              "1                 7                 6  ...     11  2010\n",
              "2                13                 3  ...     11  2010\n",
              "3                15                 8  ...     11  2010\n",
              "4                13                 3  ...     11  2010\n",
              "\n",
              "[5 rows x 26 columns]"
            ]
          },
          "metadata": {
            "tags": []
          },
          "execution_count": 5
        }
      ]
    },
    {
      "cell_type": "code",
      "metadata": {
        "id": "FCj2msO_i97x",
        "colab": {
          "base_uri": "https://localhost:8080/"
        },
        "outputId": "40bafbce-741b-459e-959f-7912ff5208be"
      },
      "source": [
        "df = df.iloc[:,0:21]\n",
        "print(df.columns)\n",
        "print(len(df.columns))"
      ],
      "execution_count": 7,
      "outputs": [
        {
          "output_type": "stream",
          "text": [
            "Index(['away_current_pos', 'away_last_yr_pos', 'away_prev_game_perf',\n",
            "       'away_team_av_points', 'away_team_av_points_conceded',\n",
            "       'away_team_away_form', 'away_team_form', 'away_team_rest_time',\n",
            "       'away_win_percentage', 'h2h_form', 'home_current_pos',\n",
            "       'home_last_yr_pos', 'home_prev_game_perf', 'home_team_av_points',\n",
            "       'home_team_av_points_conceded', 'home_team_form', 'home_team_home_form',\n",
            "       'home_team_rest_time', 'home_win_percentage', 'match_importance',\n",
            "       'result'],\n",
            "      dtype='object')\n",
            "21\n"
          ],
          "name": "stdout"
        }
      ]
    },
    {
      "cell_type": "code",
      "metadata": {
        "id": "jlfcHXgio5rL"
      },
      "source": [
        "df = df.drop([\"away_team_rest_time\"], axis=1)\n",
        "# Due to high correlation with 'away_team_rest_time'"
      ],
      "execution_count": 8,
      "outputs": []
    },
    {
      "cell_type": "code",
      "metadata": {
        "id": "GsJzGFkyi92H"
      },
      "source": [
        "y = df[\"result\"]\n",
        "X = df.drop([\"result\"], axis=1)\n",
        "\n",
        "X_train,X_test,y_train,y_test = train_test_split(X, y, test_size=0.2, random_state = 121)"
      ],
      "execution_count": 9,
      "outputs": []
    },
    {
      "cell_type": "code",
      "metadata": {
        "id": "plvtPHyvi9w7"
      },
      "source": [
        "scaler = preprocessing.StandardScaler()\n",
        "scaler.fit(X_train)\n",
        "scaled_X_train = scaler.transform(X_train)\n",
        "scaled_X_test = scaler.transform(X_test)\n",
        "\n",
        "\n",
        "scaled_X_train = pd.DataFrame(data=scaled_X_train, columns=X_train.columns)\n",
        "scaled_X_test = pd.DataFrame(data=scaled_X_test, columns=X_test.columns)"
      ],
      "execution_count": 10,
      "outputs": []
    },
    {
      "cell_type": "code",
      "metadata": {
        "id": "QWFnmOPHi9p4"
      },
      "source": [
        "cv = ShuffleSplit(n_splits=10, test_size=0.2, random_state=0)\n"
      ],
      "execution_count": 11,
      "outputs": []
    },
    {
      "cell_type": "code",
      "metadata": {
        "id": "Ue4Su77ji9gw",
        "colab": {
          "base_uri": "https://localhost:8080/"
        },
        "outputId": "e76824e2-d7c7-45bd-9942-ae02b55597cf"
      },
      "source": [
        "LR = LogisticRegression()\n",
        "\n",
        "LR.fit(scaled_X_train,y_train)\n",
        "y_pred = LR.predict(scaled_X_test)\n",
        "y_train_pred = LR.predict(scaled_X_train)\n",
        "# accuracy_score(y_test,y_pred)\n",
        "\n",
        "LR_test_accuracy = accuracy_score(y_test, y_pred)\n",
        "LR_train_accuracy = accuracy_score(y_train,y_train_pred)\n",
        "LR_test_f1 = f1_score(y_test,y_pred)\n",
        "LR_train_f1 = f1_score(y_train,y_train_pred)\n",
        "LR_test_roc = roc_auc_score(y_test,y_pred)\n",
        "LR_train_roc = roc_auc_score(y_train,y_train_pred)\n",
        "LR_test_accuracy"
      ],
      "execution_count": 12,
      "outputs": [
        {
          "output_type": "execute_result",
          "data": {
            "text/plain": [
              "0.7309486780715396"
            ]
          },
          "metadata": {
            "tags": []
          },
          "execution_count": 12
        }
      ]
    },
    {
      "cell_type": "code",
      "metadata": {
        "id": "xXJA6qjri9cP",
        "colab": {
          "base_uri": "https://localhost:8080/"
        },
        "outputId": "4da488c9-93ff-4877-c381-d1234d4b3835"
      },
      "source": [
        "dtree = DecisionTreeClassifier()\n",
        "\n",
        "dtree.fit(scaled_X_train,y_train)\n",
        "y_pred = dtree.predict(scaled_X_test)\n",
        "y_train_pred = dtree.predict(scaled_X_train)\n",
        "# accuracy_score(y_test,y_pred)\n",
        "\n",
        "dtree_test_accuracy = accuracy_score(y_test, y_pred)\n",
        "dtree_train_accuracy = accuracy_score(y_train,y_train_pred)\n",
        "dtree_test_f1 = f1_score(y_test,y_pred)\n",
        "dtree_train_f1 = f1_score(y_train,y_train_pred)\n",
        "dtree_test_roc = roc_auc_score(y_test,y_pred)\n",
        "dtree_train_roc = roc_auc_score(y_train,y_train_pred)\n",
        "dtree_test_accuracy"
      ],
      "execution_count": 13,
      "outputs": [
        {
          "output_type": "execute_result",
          "data": {
            "text/plain": [
              "0.6376360808709176"
            ]
          },
          "metadata": {
            "tags": []
          },
          "execution_count": 13
        }
      ]
    },
    {
      "cell_type": "code",
      "metadata": {
        "id": "p4pHiHJvi9K5",
        "colab": {
          "base_uri": "https://localhost:8080/"
        },
        "outputId": "d44623f1-df47-4ff1-917d-4197daf4eee8"
      },
      "source": [
        "SVM = SVC(probability = True)\n",
        "\n",
        "SVM.fit(scaled_X_train,y_train)\n",
        "y_pred = SVM.predict(scaled_X_test)\n",
        "y_train_pred = SVM.predict(scaled_X_train)\n",
        "# accuracy_score(y_test,y_pred)\n",
        "\n",
        "SVM_test_accuracy = accuracy_score(y_test, y_pred)\n",
        "SVM_train_accuracy = accuracy_score(y_train,y_train_pred)\n",
        "SVM_test_f1 = f1_score(y_test,y_pred)\n",
        "SVM_train_f1 = f1_score(y_train,y_train_pred)\n",
        "SVM_test_roc = roc_auc_score(y_test,y_pred)\n",
        "SVM_train_roc = roc_auc_score(y_train,y_train_pred)\n",
        "SVM_test_accuracy"
      ],
      "execution_count": 14,
      "outputs": [
        {
          "output_type": "execute_result",
          "data": {
            "text/plain": [
              "0.7278382581648523"
            ]
          },
          "metadata": {
            "tags": []
          },
          "execution_count": 14
        }
      ]
    },
    {
      "cell_type": "code",
      "metadata": {
        "id": "ftCEaeP5i9F2",
        "colab": {
          "base_uri": "https://localhost:8080/"
        },
        "outputId": "eed7ca27-5a85-44b8-8644-2e27fa408cb6"
      },
      "source": [
        "RForest = RandomForestClassifier()\n",
        "\n",
        "RForest.fit(scaled_X_train,y_train)\n",
        "y_pred = RForest.predict(scaled_X_test)\n",
        "y_train_pred = RForest.predict(scaled_X_train)\n",
        "# accuracy_score(y_test,y_pred)\n",
        "\n",
        "RForest_test_accuracy = accuracy_score(y_test, y_pred)\n",
        "RForest_train_accuracy = accuracy_score(y_train,y_train_pred)\n",
        "RForest_test_f1 = f1_score(y_test,y_pred)\n",
        "RForest_train_f1 = f1_score(y_train,y_train_pred)\n",
        "RForest_test_roc = roc_auc_score(y_test,y_pred)\n",
        "RForest_train_roc = roc_auc_score(y_train,y_train_pred)\n",
        "RForest_test_accuracy"
      ],
      "execution_count": 15,
      "outputs": [
        {
          "output_type": "execute_result",
          "data": {
            "text/plain": [
              "0.7045101088646968"
            ]
          },
          "metadata": {
            "tags": []
          },
          "execution_count": 15
        }
      ]
    },
    {
      "cell_type": "code",
      "metadata": {
        "id": "0fgjo6SJi8-c",
        "colab": {
          "base_uri": "https://localhost:8080/"
        },
        "outputId": "405d89bb-6ae6-41e1-934c-e628c6dc548a"
      },
      "source": [
        "KNN = KNeighborsClassifier()\n",
        "\n",
        "KNN.fit(scaled_X_train,y_train)\n",
        "y_pred = KNN.predict(scaled_X_test)\n",
        "y_train_pred = KNN.predict(scaled_X_train)\n",
        "# accuracy_score(y_test,y_pred)\n",
        "\n",
        "KNN_test_accuracy = accuracy_score(y_test, y_pred)\n",
        "KNN_train_accuracy = accuracy_score(y_train,y_train_pred)\n",
        "KNN_test_f1 = f1_score(y_test,y_pred)\n",
        "KNN_train_f1 = f1_score(y_train,y_train_pred)\n",
        "KNN_test_roc = roc_auc_score(y_test,y_pred)\n",
        "KNN_train_roc = roc_auc_score(y_train,y_train_pred)\n",
        "KNN_test_accuracy\n",
        "\n"
      ],
      "execution_count": 16,
      "outputs": [
        {
          "output_type": "execute_result",
          "data": {
            "text/plain": [
              "0.6982892690513219"
            ]
          },
          "metadata": {
            "tags": []
          },
          "execution_count": 16
        }
      ]
    },
    {
      "cell_type": "code",
      "metadata": {
        "colab": {
          "base_uri": "https://localhost:8080/"
        },
        "id": "4j8g17aypQAp",
        "outputId": "33c9b1c9-c1fa-406e-838b-e0a552f1beb1"
      },
      "source": [
        "bayes = GaussianNB()\n",
        "\n",
        "bayes.fit(scaled_X_train,y_train)\n",
        "y_pred = bayes.predict(scaled_X_test)\n",
        "y_train_pred = bayes.predict(scaled_X_train)\n",
        "# accuracy_score(y_test,y_pred)\n",
        "\n",
        "bayes_test_accuracy = accuracy_score(y_test, y_pred)\n",
        "bayes_train_accuracy = accuracy_score(y_train,y_train_pred)\n",
        "bayes_test_f1 = f1_score(y_test,y_pred)\n",
        "bayes_train_f1 = f1_score(y_train,y_train_pred)\n",
        "bayes_test_roc = roc_auc_score(y_test,y_pred)\n",
        "bayes_train_roc = roc_auc_score(y_train,y_train_pred)\n",
        "bayes_test_accuracy\n"
      ],
      "execution_count": 17,
      "outputs": [
        {
          "output_type": "execute_result",
          "data": {
            "text/plain": [
              "0.7169517884914464"
            ]
          },
          "metadata": {
            "tags": []
          },
          "execution_count": 17
        }
      ]
    },
    {
      "cell_type": "code",
      "metadata": {
        "colab": {
          "base_uri": "https://localhost:8080/"
        },
        "id": "2IB_35oMpSY-",
        "outputId": "e7ea2bb3-6e1e-43a0-ec7e-c2f48c380963"
      },
      "source": [
        "LDA = LinearDiscriminantAnalysis(solver='lsqr')\n",
        "\n",
        "LDA.fit(scaled_X_train,y_train)\n",
        "y_pred = LDA.predict(scaled_X_test)\n",
        "y_train_pred = LDA.predict(scaled_X_train)\n",
        "# accuracy_score(y_test,y_pred)\n",
        "\n",
        "LDA_test_accuracy = accuracy_score(y_test, y_pred)\n",
        "LDA_train_accuracy = accuracy_score(y_train,y_train_pred)\n",
        "LDA_test_f1 = f1_score(y_test,y_pred)\n",
        "LDA_train_f1 = f1_score(y_train,y_train_pred)\n",
        "LDA_test_roc = roc_auc_score(y_test,y_pred)\n",
        "LDA_train_roc = roc_auc_score(y_train,y_train_pred)\n",
        "LDA_test_accuracy\n",
        "\n"
      ],
      "execution_count": 18,
      "outputs": [
        {
          "output_type": "execute_result",
          "data": {
            "text/plain": [
              "0.7325038880248833"
            ]
          },
          "metadata": {
            "tags": []
          },
          "execution_count": 18
        }
      ]
    },
    {
      "cell_type": "code",
      "metadata": {
        "colab": {
          "base_uri": "https://localhost:8080/"
        },
        "id": "OCvkYoR4pVU0",
        "outputId": "baf1e500-0bec-4196-ee66-36344678cfc4"
      },
      "source": [
        "QDA = QuadraticDiscriminantAnalysis()\n",
        "\n",
        "QDA.fit(scaled_X_train,y_train)\n",
        "y_pred = QDA.predict(scaled_X_test)\n",
        "y_train_pred = QDA.predict(scaled_X_train)\n",
        "# accuracy_score(y_test,y_pred)\n",
        "\n",
        "QDA_test_accuracy = accuracy_score(y_test, y_pred)\n",
        "QDA_train_accuracy = accuracy_score(y_train,y_train_pred)\n",
        "QDA_test_f1 = f1_score(y_test,y_pred)\n",
        "QDA_train_f1 = f1_score(y_train,y_train_pred)\n",
        "QDA_test_roc = roc_auc_score(y_test,y_pred)\n",
        "QDA_train_roc = roc_auc_score(y_train,y_train_pred)\n",
        "QDA_test_accuracy\n"
      ],
      "execution_count": 19,
      "outputs": [
        {
          "output_type": "execute_result",
          "data": {
            "text/plain": [
              "0.7013996889580093"
            ]
          },
          "metadata": {
            "tags": []
          },
          "execution_count": 19
        }
      ]
    },
    {
      "cell_type": "code",
      "metadata": {
        "colab": {
          "base_uri": "https://localhost:8080/"
        },
        "id": "gPO_Y3FwpYAu",
        "outputId": "02245b6e-011f-4b93-d290-83d9204917a1"
      },
      "source": [
        "from sklearn.neural_network import MLPClassifier\n",
        "\n",
        "# scoring = ['accuracy', 'precision_macro', 'recall_macro' , 'f1_weighted', 'roc_auc']\n",
        "# clf = make_pipeline(preprocessing.StandardScaler(), MLPClassifier(solver='adam', alpha=3e-4, hidden_layer_sizes=(10), random_state=1,max_iter=1000))\n",
        "# clf2 = make_pipeline(preprocessing.MinMaxScaler(), MLPClassifier(solver='adam', alpha=3e-4, hidden_layer_sizes=(10), random_state=1,max_iter=1000))\n",
        "\n",
        "# scores = cross_validate(clf, X, y, scoring=scoring, cv=cv, return_train_score = True)\n",
        "# scores2 = cross_validate(clf2, X, y, scoring=scoring, cv=cv, return_train_score = True)\n",
        "\n",
        "MLP = MLPClassifier(solver='adam',learning_rate = 'adaptive',hidden_layer_sizes=(5), random_state=202,max_iter=300,activation = 'tanh')\n",
        "\n",
        "MLP.fit(scaled_X_train,y_train)\n",
        "y_pred = MLP.predict(scaled_X_test)\n",
        "y_train_pred = MLP.predict(scaled_X_train)\n",
        "# accuracy_score(y_test,y_pred)\n",
        "\n",
        "MLP_test_accuracy = accuracy_score(y_test, y_pred)\n",
        "MLP_train_accuracy = accuracy_score(y_train,y_train_pred)\n",
        "MLP_test_f1 = f1_score(y_test,y_pred)\n",
        "MLP_train_f1 = f1_score(y_train,y_train_pred)\n",
        "MLP_test_roc = roc_auc_score(y_test,y_pred)\n",
        "MLP_train_roc = roc_auc_score(y_train,y_train_pred)\n",
        "MLP_test_accuracy\n",
        "\n"
      ],
      "execution_count": 55,
      "outputs": [
        {
          "output_type": "execute_result",
          "data": {
            "text/plain": [
              "0.7356143079315708"
            ]
          },
          "metadata": {
            "tags": []
          },
          "execution_count": 55
        }
      ]
    },
    {
      "cell_type": "code",
      "metadata": {
        "colab": {
          "base_uri": "https://localhost:8080/"
        },
        "id": "ZQNdMu4wpajY",
        "outputId": "de73377d-c608-4bd7-d013-af453875162e"
      },
      "source": [
        "models_initial = pd.DataFrame({\n",
        "    'Model'         : ['Logistic Regression', 'Decision Tree', 'Support Vector Machine', 'Random Forest', 'K-Nearest Neighbors', 'Naive Bayes', 'LinearDiscriminantAnalysis', 'QuadraticDiscriminantAnalysis','Neural Network'],\n",
        "    'test_Acc'       : [LR_test_accuracy, dtree_test_accuracy, SVM_test_accuracy, RForest_test_accuracy, KNN_test_accuracy, bayes_test_accuracy, LDA_test_accuracy, QDA_test_accuracy,MLP_test_accuracy],\n",
        "    'train_Accuracy'       : [LR_train_accuracy, dtree_train_accuracy, SVM_train_accuracy, RForest_train_accuracy, KNN_train_accuracy, bayes_train_accuracy, LDA_train_accuracy, QDA_train_accuracy,MLP_train_accuracy],\n",
        "    'test_AUC_ROC'   : [LR_test_roc, dtree_test_roc, SVM_test_roc, RForest_test_roc, KNN_test_roc, bayes_test_roc, LDA_test_roc, QDA_test_roc,MLP_test_roc],\n",
        "    'train_AUC_ROC'        : [LR_train_roc, dtree_train_roc, SVM_train_roc, RForest_train_roc, KNN_train_roc, bayes_train_roc, LDA_train_roc, QDA_train_roc,MLP_train_roc],\n",
        "    'train_F1_Score'       : [LR_train_f1, dtree_train_f1, SVM_train_f1, RForest_train_f1, KNN_train_f1, bayes_train_f1, LDA_train_f1, QDA_train_f1,MLP_train_f1],\n",
        "    'test_F1_Score'  : [LR_test_f1, dtree_test_f1, SVM_test_f1, RForest_test_f1, KNN_test_f1, bayes_test_f1, LDA_test_f1, QDA_test_f1,MLP_test_f1]\n",
        "    \n",
        "    }, columns = ['Model', 'test_Acc', 'train_Accuracy', 'test_AUC_ROC', 'train_AUC_ROC','test_F1_Score', 'train_F1_Score'])\n",
        "print(\"StandardScaler preprocessing\")\n",
        "models_sorted=models_initial.sort_values(by='test_Acc', ascending=False)\n",
        "pd.set_option(\"display.max_rows\",None, \"display.max_columns\", None)\n",
        "print(models_sorted)\n",
        "\n"
      ],
      "execution_count": 56,
      "outputs": [
        {
          "output_type": "stream",
          "text": [
            "StandardScaler preprocessing\n",
            "                           Model  test_Acc  train_Accuracy  test_AUC_ROC  \\\n",
            "8                 Neural Network  0.735614        0.739891      0.732964   \n",
            "6     LinearDiscriminantAnalysis  0.732504        0.737558      0.730049   \n",
            "0            Logistic Regression  0.730949        0.736781      0.728173   \n",
            "2         Support Vector Machine  0.727838        0.759331      0.724004   \n",
            "5                    Naive Bayes  0.716952        0.726283      0.718188   \n",
            "3                  Random Forest  0.704510        1.000000      0.701302   \n",
            "7  QuadraticDiscriminantAnalysis  0.701400        0.731726      0.701312   \n",
            "4            K-Nearest Neighbors  0.698289        0.793157      0.696307   \n",
            "1                  Decision Tree  0.637636        1.000000      0.635695   \n",
            "\n",
            "   train_AUC_ROC  test_F1_Score  train_F1_Score  \n",
            "8       0.735523       0.757143        0.767628  \n",
            "6       0.731571       0.753582        0.768598  \n",
            "0       0.730785       0.753210        0.767912  \n",
            "2       0.752924       0.753868        0.788953  \n",
            "5       0.725068       0.725076        0.748571  \n",
            "3       1.000000       0.730114        1.000000  \n",
            "7       0.729317       0.715134        0.756184  \n",
            "4       0.789023       0.719653        0.815789  \n",
            "1       1.000000       0.661829        1.000000  \n"
          ],
          "name": "stdout"
        }
      ]
    },
    {
      "cell_type": "code",
      "metadata": {
        "id": "giw1jv7qpeCZ"
      },
      "source": [
        ""
      ],
      "execution_count": 92,
      "outputs": []
    }
  ]
}